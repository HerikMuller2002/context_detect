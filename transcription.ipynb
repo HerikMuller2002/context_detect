{
 "cells": [
  {
   "cell_type": "code",
   "execution_count": 2,
   "metadata": {},
   "outputs": [
    {
     "name": "stdout",
     "output_type": "stream",
     "text": [
      "A inteligência artificial (de sigla: IA; do inglês: artificial intelligence, de sigla: AI) é um campo de estudo multidisciplinar que abrange varias áreas do conhecimento. É também um conjunto de novas tecnologias que permitem aos aparelhos smart executarem várias funções avançadas de modo quase autônomo, representanto um marco histórico na computação moderna. Embora seu desenvolvimento tenha avançado mais na ciência da computação, sua abordagem interdisciplinar envolve contribuições de diversas disciplina.\n",
      "Algumas das principais áreas relacionadas à IA incluem:\n",
      "\n",
      "Ciência da Computação: A ciência da computação desempenha um papel central na IA, fornecendo as bases teóricas e práticas para o desenvolvimento de algoritmos, modelos e técnicas computacionais para simular a inteligência humana.\n",
      "Matemática e Estatística: A matemática e a estatística fornecem os fundamentos teóricos para a modelagem e análise de algoritmos de IA, incluindo aprendizagem de máquina, redes neurais e processamento de dados.\n",
      "Aprendizagem de Máquina (Machine Learning): A aprendizagem de máquina é uma subárea da IA que se concentra no desenvolvimento de algoritmos que permitem aos computadores aprender e melhorar com base em dados. Isso envolve a aplicação de técnicas estatísticas e algoritmos de otimização.\n",
      "Ciência Cognitiva: A ciência cognitiva estuda os processos mentais e a inteligência humana, e suas contribuições para a IA estão relacionadas à compreensão e modelagem dos processos cognitivos para o desenvolvimento de sistemas inteligentes.\n",
      "Neurociência Computacional: A neurociência computacional busca entender o funcionamento do cérebro humano e aplicar esses insights no desenvolvimento de modelos e algoritmos de IA inspirados no cérebro.\n",
      "Filosofia da Mente: A filosofia da mente explora questões relacionadas à natureza da mente, da consciência e da inteligência, oferecendo perspectivas teóricas importantes para o campo da IA.\n",
      "Linguística Computacional: A linguística computacional envolve o processamento de linguagem natural (PLN), que se concentra no desenvolvimento de algoritmos e técnicas para que os computadores compreendam e processem a linguagem humana.\n",
      "É difícil definir especificamente a Inteligência Artificial, mas ao longo do tempo seguiu essas quatro linhas de pensamento:\n",
      "\n",
      "Sistemas computacionais que pesam semelhante aos humanos... “O novo e interessante esforço para fazer os computadores pensarem... máquinas com mentes, no sentido total e literal”. (HAUGELAND, 1985).\n",
      "Sistemas computacionais que trabalham semelhante aos humanos... “A arte de criar máquinas que executam funções que exigem inteligência quando executadas por pessoas.” (KURZWEIL, 1990).\n",
      "Sistemas computacionais que pensam racionalmente... “O estudo das faculdades mentais pelo seu uso de modelos computacionais.” (CHARNIAK; MCDERMOTT, 1985).\n",
      "Sistemas computacionais que trabalham racionalmente... “A Inteligência Computacional é o estudo do projeto de agentes inteligentes.” (POOLE et al., 1998).\n",
      "É um conceito amplo e que recebe tantas definições quanto significados diferentes à palavra inteligência. É possível considerar algumas características básicas desses sistemas, como a capacidade de raciocínio (aplicar regras lógicas a um conjunto de dados disponíveis para chegar a uma conclusão), aprendizagem (aprender com os erros e acertos para que no futuro possa agir de maneira mais eficaz), reconhecer padrões (tanto padrões visuais e sensoriais, como também padrões de comportamento) e inferência (capacidade de conseguir aplicar o raciocínio nas situações do nosso cotidiano).\n",
      "O desenvolvimento da área de estudo começou logo após a Segunda Guerra Mundial, com o artigo \"Computing Machinery and Intelligence\" do matemático inglês Alan Turing, e o próprio nome foi cunhado em 1956. Seus principais idealizadores foram os cientistas Herbert Simon, Allen Newell, John McCarthy, Warren McCulloch, Walter Pitts e Marvin Minsky. A construção de máquinas inteligentes interessa à humanidade há muito tempo, havendo na história tanto um registro significante de autômatos mecânicos (reais) quanto de personagens fictícios construídos pelo homem com inteligência própria, tais como o Golem e o Frankenstein. Tais relatos, lendas e ficções demonstram expectativas contrastantes do homem, de fascínio e de medo, em relação à Inteligência Artificial.\n",
      "Apenas recentemente, com o surgimento do computador moderno, é que a inteligência artificial ganhou meios e massa crítica para se estabelecer como ciência integral, com problemáticas e metodologias próprias. Desde então, seu desenvolvimento tem extrapolado os clássicos programas de xadrez ou de conversão e envolvido áreas como visão computacional, análise e síntese da voz, lógica difusa, redes neurais artificiais e muitas outras. Inicialmente, os modelos de IA visavam reproduzir o pensamento humano. Posteriormente, no entanto, tais modelos abraçaram a ideia de reproduzir capacidades humanas como criatividade, auto aperfeiçoamento e uso da linguagem. Porém, o conceito de inteligência artificial ainda é bastante difícil de se definir. Por essa razão, Inteligência Artificial foi (e continua sendo) uma noção que dispõe de múltiplas interpretações, não raro conflitantes ou circulares.\n",
      "\n",
      "\n"
     ]
    }
   ],
   "source": [
    "# Biblioteca para fazer requisição de APIs\n",
    "import requests\n",
    "\n",
    "# Função que acessa a API da Wikipedia e retorna o conteúdo de um artigo\n",
    "def api_wikipedia(assunto, resumo=False):\n",
    "    # Substitui os espaços do assunto por underline\n",
    "    assunto = assunto.replace(\" \", \"_\")\n",
    "\n",
    "    # Verifica se o usuário deseja o resumo do artigo ou o texto completo\n",
    "    if resumo:\n",
    "        api_url = f\"https://pt.wikipedia.org/w/api.php?action=query&format=json&titles={assunto}&prop=extracts&exintro&explaintext\"\n",
    "    else:\n",
    "        api_url = f\"https://pt.wikipedia.org/w/api.php?action=query&format=json&titles={assunto}&prop=extracts&explaintext\"\n",
    "    # Faz a requisição na API da Wikipedia\n",
    "    response = requests.get(api_url)\n",
    "    # Verifica se a requisição foi bem sucedida\n",
    "    if response.status_code == 200:\n",
    "        # Converte a resposta da API para JSON\n",
    "        data = response.json()\n",
    "        # Pega o ID da página do artigo\n",
    "        page_id = list(data['query']['pages'].keys())[0]\n",
    "        # Pega o conteúdo do artigo\n",
    "        conteudo = data['query']['pages'][page_id]['extract']\n",
    "        # Retorna o conteúdo do artigo\n",
    "        return conteudo\n",
    "    # Caso a requisição não seja bem sucedida, retorna uma mensagem de erro\n",
    "    else:\n",
    "        return f\"Erro ao acessar a API da Wikipedia. Código de status: {response.status_code}\"\n",
    "\n",
    "# Assunto que deseja pesquisar\n",
    "assunto = \"Inteligência artificial\"\n",
    "# Chama a função api_wikipedia e imprime o conteúdo do artigo\n",
    "text = api_wikipedia(assunto, resumo=True)\n",
    "print(text)"
   ]
  },
  {
   "cell_type": "code",
   "execution_count": null,
   "metadata": {},
   "outputs": [],
   "source": [
    "with open()"
   ]
  }
 ],
 "metadata": {
  "kernelspec": {
   "display_name": ".venv_context",
   "language": "python",
   "name": "python3"
  },
  "language_info": {
   "codemirror_mode": {
    "name": "ipython",
    "version": 3
   },
   "file_extension": ".py",
   "mimetype": "text/x-python",
   "name": "python",
   "nbconvert_exporter": "python",
   "pygments_lexer": "ipython3",
   "version": "3.9.7"
  }
 },
 "nbformat": 4,
 "nbformat_minor": 2
}
